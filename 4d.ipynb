{
 "cells": [
  {
   "cell_type": "code",
   "execution_count": 2,
   "id": "ccce843f",
   "metadata": {},
   "outputs": [],
   "source": [
    "import pandas as pd\n",
    "import numpy as np\n",
    "from sklearn.model_selection import train_test_split\n",
    "from sklearn.linear_model import LinearRegression"
   ]
  },
  {
   "cell_type": "code",
   "execution_count": 4,
   "id": "1f2c4f5d",
   "metadata": {},
   "outputs": [
    {
     "name": "stdout",
     "output_type": "stream",
     "text": [
      "   DrawNo  DrawDate  1stPrizeNo  2ndPrizeNo  3rdPrizeNo  SpecialNo1  \\\n",
      "0   40792  19920506          19        1124         592         950   \n",
      "1   40892  19920507         905        3591        8690        7202   \n",
      "2   40992  19920510        4162        5766        9514        9309   \n",
      "3   41092  19920513        8060        4939          23        4607   \n",
      "4   41192  19920514        5371        5472        3489        6872   \n",
      "\n",
      "   SpecialNo2  SpecialNo3  SpecialNo4  SpecialNo5  ...  ConsolationNo1  \\\n",
      "0        2479        7139        3114        4609  ...            5311   \n",
      "1        6796        4959        2008        7506  ...            4562   \n",
      "2        9344        1573        5077        1037  ...            6908   \n",
      "3        7550        3038        5542        6792  ...            6683   \n",
      "4        2455         600        4590        7261  ...            1683   \n",
      "\n",
      "   ConsolationNo2  ConsolationNo3  ConsolationNo4  ConsolationNo5  \\\n",
      "0            1949            1606            3775            6226   \n",
      "1             823            8938            1933            5378   \n",
      "2            4809             464            1932            8240   \n",
      "3            2863            8238            8435            5799   \n",
      "4            6817            4710            6375            4702   \n",
      "\n",
      "   ConsolationNo6  ConsolationNo7  ConsolationNo8  ConsolationNo9  \\\n",
      "0            1271            7455            7227            9258   \n",
      "1            9909            7586            9765            4640   \n",
      "2            2725            6294            9991            5707   \n",
      "3            6684            9326             361            7529   \n",
      "4            9716            6082            9674            8899   \n",
      "\n",
      "   ConsolationNo10  \n",
      "0              407  \n",
      "1             9963  \n",
      "2             6754  \n",
      "3             7599  \n",
      "4             7760  \n",
      "\n",
      "[5 rows x 25 columns]\n",
      "<class 'pandas.core.frame.DataFrame'>\n",
      "RangeIndex: 5285 entries, 0 to 5284\n",
      "Data columns (total 25 columns):\n",
      " #   Column           Non-Null Count  Dtype\n",
      "---  ------           --------------  -----\n",
      " 0   DrawNo           5285 non-null   int64\n",
      " 1   DrawDate         5285 non-null   int64\n",
      " 2   1stPrizeNo       5285 non-null   int64\n",
      " 3   2ndPrizeNo       5285 non-null   int64\n",
      " 4   3rdPrizeNo       5285 non-null   int64\n",
      " 5   SpecialNo1       5285 non-null   int64\n",
      " 6   SpecialNo2       5285 non-null   int64\n",
      " 7   SpecialNo3       5285 non-null   int64\n",
      " 8   SpecialNo4       5285 non-null   int64\n",
      " 9   SpecialNo5       5285 non-null   int64\n",
      " 10  SpecialNo6       5285 non-null   int64\n",
      " 11  SpecialNo7       5285 non-null   int64\n",
      " 12  SpecialNo8       5285 non-null   int64\n",
      " 13  SpecialNo9       5285 non-null   int64\n",
      " 14  SpecialNo10      5285 non-null   int64\n",
      " 15  ConsolationNo1   5285 non-null   int64\n",
      " 16  ConsolationNo2   5285 non-null   int64\n",
      " 17  ConsolationNo3   5285 non-null   int64\n",
      " 18  ConsolationNo4   5285 non-null   int64\n",
      " 19  ConsolationNo5   5285 non-null   int64\n",
      " 20  ConsolationNo6   5285 non-null   int64\n",
      " 21  ConsolationNo7   5285 non-null   int64\n",
      " 22  ConsolationNo8   5285 non-null   int64\n",
      " 23  ConsolationNo9   5285 non-null   int64\n",
      " 24  ConsolationNo10  5285 non-null   int64\n",
      "dtypes: int64(25)\n",
      "memory usage: 1.0 MB\n",
      "None\n"
     ]
    }
   ],
   "source": [
    "# Load the data\n",
    "df = pd.read_csv('4d.csv')\n",
    "\n",
    "# Display basic data overview\n",
    "print(df.head())\n",
    "print(df.info())"
   ]
  },
  {
   "cell_type": "code",
   "execution_count": 6,
   "id": "5432d7c9",
   "metadata": {},
   "outputs": [
    {
     "name": "stderr",
     "output_type": "stream",
     "text": [
      "/var/folders/v7/gdqfp_1n059fc132kjncx7ym0000gn/T/ipykernel_7471/2035322067.py:9: FutureWarning: DataFrame.fillna with 'method' is deprecated and will raise in a future version. Use obj.ffill() or obj.bfill() instead.\n",
      "  features = features.fillna(method='ffill')\n"
     ]
    }
   ],
   "source": [
    "# Preprocess: Extract numerical 4-digit columns for prediction\n",
    "features = df[['1stPrizeNo', '2ndPrizeNo', '3rdPrizeNo', 'SpecialNo1', 'SpecialNo2', 'SpecialNo3', 'SpecialNo4', 'SpecialNo5',\n",
    "               'SpecialNo6', 'SpecialNo7', 'SpecialNo8', 'SpecialNo9', 'SpecialNo10', 'ConsolationNo1', 'ConsolationNo2',\n",
    "               'ConsolationNo3', 'ConsolationNo4', 'ConsolationNo5', 'ConsolationNo6', 'ConsolationNo7', 'ConsolationNo8',\n",
    "               'ConsolationNo9', 'ConsolationNo10']]\n",
    "target = df['1stPrizeNo']  # Using 1stPrizeNo as a pseudo-target for illustration\n",
    "\n",
    "# Simple preprocessing: Fill any missing values\n",
    "features = features.fillna(method='ffill')"
   ]
  },
  {
   "cell_type": "code",
   "execution_count": 8,
   "id": "34191b12",
   "metadata": {},
   "outputs": [
    {
     "data": {
      "text/html": [
       "<style>#sk-container-id-1 {color: black;background-color: white;}#sk-container-id-1 pre{padding: 0;}#sk-container-id-1 div.sk-toggleable {background-color: white;}#sk-container-id-1 label.sk-toggleable__label {cursor: pointer;display: block;width: 100%;margin-bottom: 0;padding: 0.3em;box-sizing: border-box;text-align: center;}#sk-container-id-1 label.sk-toggleable__label-arrow:before {content: \"▸\";float: left;margin-right: 0.25em;color: #696969;}#sk-container-id-1 label.sk-toggleable__label-arrow:hover:before {color: black;}#sk-container-id-1 div.sk-estimator:hover label.sk-toggleable__label-arrow:before {color: black;}#sk-container-id-1 div.sk-toggleable__content {max-height: 0;max-width: 0;overflow: hidden;text-align: left;background-color: #f0f8ff;}#sk-container-id-1 div.sk-toggleable__content pre {margin: 0.2em;color: black;border-radius: 0.25em;background-color: #f0f8ff;}#sk-container-id-1 input.sk-toggleable__control:checked~div.sk-toggleable__content {max-height: 200px;max-width: 100%;overflow: auto;}#sk-container-id-1 input.sk-toggleable__control:checked~label.sk-toggleable__label-arrow:before {content: \"▾\";}#sk-container-id-1 div.sk-estimator input.sk-toggleable__control:checked~label.sk-toggleable__label {background-color: #d4ebff;}#sk-container-id-1 div.sk-label input.sk-toggleable__control:checked~label.sk-toggleable__label {background-color: #d4ebff;}#sk-container-id-1 input.sk-hidden--visually {border: 0;clip: rect(1px 1px 1px 1px);clip: rect(1px, 1px, 1px, 1px);height: 1px;margin: -1px;overflow: hidden;padding: 0;position: absolute;width: 1px;}#sk-container-id-1 div.sk-estimator {font-family: monospace;background-color: #f0f8ff;border: 1px dotted black;border-radius: 0.25em;box-sizing: border-box;margin-bottom: 0.5em;}#sk-container-id-1 div.sk-estimator:hover {background-color: #d4ebff;}#sk-container-id-1 div.sk-parallel-item::after {content: \"\";width: 100%;border-bottom: 1px solid gray;flex-grow: 1;}#sk-container-id-1 div.sk-label:hover label.sk-toggleable__label {background-color: #d4ebff;}#sk-container-id-1 div.sk-serial::before {content: \"\";position: absolute;border-left: 1px solid gray;box-sizing: border-box;top: 0;bottom: 0;left: 50%;z-index: 0;}#sk-container-id-1 div.sk-serial {display: flex;flex-direction: column;align-items: center;background-color: white;padding-right: 0.2em;padding-left: 0.2em;position: relative;}#sk-container-id-1 div.sk-item {position: relative;z-index: 1;}#sk-container-id-1 div.sk-parallel {display: flex;align-items: stretch;justify-content: center;background-color: white;position: relative;}#sk-container-id-1 div.sk-item::before, #sk-container-id-1 div.sk-parallel-item::before {content: \"\";position: absolute;border-left: 1px solid gray;box-sizing: border-box;top: 0;bottom: 0;left: 50%;z-index: -1;}#sk-container-id-1 div.sk-parallel-item {display: flex;flex-direction: column;z-index: 1;position: relative;background-color: white;}#sk-container-id-1 div.sk-parallel-item:first-child::after {align-self: flex-end;width: 50%;}#sk-container-id-1 div.sk-parallel-item:last-child::after {align-self: flex-start;width: 50%;}#sk-container-id-1 div.sk-parallel-item:only-child::after {width: 0;}#sk-container-id-1 div.sk-dashed-wrapped {border: 1px dashed gray;margin: 0 0.4em 0.5em 0.4em;box-sizing: border-box;padding-bottom: 0.4em;background-color: white;}#sk-container-id-1 div.sk-label label {font-family: monospace;font-weight: bold;display: inline-block;line-height: 1.2em;}#sk-container-id-1 div.sk-label-container {text-align: center;}#sk-container-id-1 div.sk-container {/* jupyter's `normalize.less` sets `[hidden] { display: none; }` but bootstrap.min.css set `[hidden] { display: none !important; }` so we also need the `!important` here to be able to override the default hidden behavior on the sphinx rendered scikit-learn.org. See: https://github.com/scikit-learn/scikit-learn/issues/21755 */display: inline-block !important;position: relative;}#sk-container-id-1 div.sk-text-repr-fallback {display: none;}</style><div id=\"sk-container-id-1\" class=\"sk-top-container\"><div class=\"sk-text-repr-fallback\"><pre>LinearRegression()</pre><b>In a Jupyter environment, please rerun this cell to show the HTML representation or trust the notebook. <br />On GitHub, the HTML representation is unable to render, please try loading this page with nbviewer.org.</b></div><div class=\"sk-container\" hidden><div class=\"sk-item\"><div class=\"sk-estimator sk-toggleable\"><input class=\"sk-toggleable__control sk-hidden--visually\" id=\"sk-estimator-id-1\" type=\"checkbox\" checked><label for=\"sk-estimator-id-1\" class=\"sk-toggleable__label sk-toggleable__label-arrow\">LinearRegression</label><div class=\"sk-toggleable__content\"><pre>LinearRegression()</pre></div></div></div></div></div>"
      ],
      "text/plain": [
       "LinearRegression()"
      ]
     },
     "execution_count": 8,
     "metadata": {},
     "output_type": "execute_result"
    }
   ],
   "source": [
    "# Train-test split\n",
    "X_train, X_test, y_train, y_test = train_test_split(features, target, test_size=0.2, random_state=42)\n",
    "\n",
    "# Initialize and train a simple linear regression model\n",
    "model = LinearRegression()\n",
    "model.fit(X_train, y_train)"
   ]
  },
  {
   "cell_type": "code",
   "execution_count": 10,
   "id": "d110a4c6",
   "metadata": {},
   "outputs": [
    {
     "name": "stdout",
     "output_type": "stream",
     "text": [
      "Predicted next 4-digit number: 7755\n"
     ]
    },
    {
     "name": "stderr",
     "output_type": "stream",
     "text": [
      "/opt/anaconda3/lib/python3.11/site-packages/sklearn/base.py:439: UserWarning: X does not have valid feature names, but LinearRegression was fitted with feature names\n",
      "  warnings.warn(\n",
      "/var/folders/v7/gdqfp_1n059fc132kjncx7ym0000gn/T/ipykernel_7471/3140662384.py:4: DeprecationWarning: Conversion of an array with ndim > 0 to a scalar is deprecated, and will error in future. Ensure you extract a single element from your array before performing this operation. (Deprecated NumPy 1.25.)\n",
      "  print('Predicted next 4-digit number:', int(predicted_next_number))\n"
     ]
    }
   ],
   "source": [
    "# Predict the next 4-digit number\n",
    "last_row = features.iloc[-1].values.reshape(1, -1)  # Using the last row as the next prediction base\n",
    "predicted_next_number = model.predict(last_row)\n",
    "print('Predicted next 4-digit number:', int(predicted_next_number))"
   ]
  },
  {
   "cell_type": "code",
   "execution_count": null,
   "id": "d9fd6090-1b7c-452a-b79e-8f06371b876a",
   "metadata": {},
   "outputs": [],
   "source": []
  }
 ],
 "metadata": {
  "kernelspec": {
   "display_name": "Python 3 (ipykernel)",
   "language": "python",
   "name": "python3"
  },
  "language_info": {
   "codemirror_mode": {
    "name": "ipython",
    "version": 3
   },
   "file_extension": ".py",
   "mimetype": "text/x-python",
   "name": "python",
   "nbconvert_exporter": "python",
   "pygments_lexer": "ipython3",
   "version": "3.11.7"
  }
 },
 "nbformat": 4,
 "nbformat_minor": 5
}
